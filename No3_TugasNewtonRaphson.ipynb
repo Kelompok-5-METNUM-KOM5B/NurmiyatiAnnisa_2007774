{
  "nbformat": 4,
  "nbformat_minor": 0,
  "metadata": {
    "colab": {
      "provenance": [],
      "collapsed_sections": []
    },
    "kernelspec": {
      "name": "python3",
      "display_name": "Python 3"
    },
    "language_info": {
      "name": "python"
    }
  },
  "cells": [
    {
      "cell_type": "code",
      "source": [
        "#SOAL N0. 3 GOOGLE CLASSROOM (NEWTON RAPHSON)\n",
        "from __future__ import print_function\n",
        "import numpy as np \n",
        "def my_newton(f, df, x0, e):  \n",
        "  e = 10**-4\n",
        "  N = 4\n",
        "  for i in range (0,N):\n",
        "    print(round(\"%d|%f|%f\" %(i, x0, f(x0))), 4)\n",
        "    if abs(f(x0)) < e:\n",
        "      return x0, i\n",
        "    if abs(df(x0)) < e:\n",
        "      return x0, i\n",
        "    if df (x0) == 0:\n",
        "      print(\"Selesai\")\n",
        "      return None\n",
        "    \n",
        "    x0 = x0 - f(x0)/df(x0)\n",
        "    return x0, i\n",
        "\n",
        "f = lambda x: x**2-2*x-8\n",
        "df = lambda x: 2*x-2 \n",
        "x0 = 4.5\n",
        "\n",
        "x_root, iteration = newtons(f, df, x0)\n",
        "print('Hasil akar: ', x_root)\n",
        "print('Berhenti pada iterasi ke %d' %iteration)\n",
        "    "
      ],
      "metadata": {
        "colab": {
          "base_uri": "https://localhost:8080/"
        },
        "id": "lV8ntfknthbs",
        "outputId": "03a95bd6-4130-4265-e2b3-adda387af02d"
      },
      "execution_count": 31,
      "outputs": [
        {
          "output_type": "stream",
          "name": "stdout",
          "text": [
            "0   | 4.500000    | 3.250000    \n",
            "1   | 4.035714    | 0.215561    \n",
            "2   | 4.000210    | 0.001261    \n",
            "3   | 4.000000    | 0.000000    \n",
            "Hasil akar:  4.000000007355369\n",
            "Berhenti pada iterasi ke 3\n"
          ]
        }
      ]
    }
  ]
}